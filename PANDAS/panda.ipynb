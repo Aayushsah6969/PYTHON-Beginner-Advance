{
 "cells": [
  {
   "cell_type": "markdown",
   "id": "383d5ffc",
   "metadata": {},
   "source": [
    "# This is the beginning of Pandas Course"
   ]
  },
  {
   "cell_type": "markdown",
   "id": "dbd9706f",
   "metadata": {},
   "source": [
    "### Pandas is a powerfull python library widely used for data visulaization and analysis"
   ]
  },
  {
   "cell_type": "markdown",
   "id": "02e16389",
   "metadata": {},
   "source": [
    "Below is the Series Data Structure of pandas"
   ]
  },
  {
   "cell_type": "code",
   "execution_count": null,
   "id": "0f6dc511",
   "metadata": {},
   "outputs": [],
   "source": [
    "import pandas as pd"
   ]
  },
  {
   "cell_type": "code",
   "execution_count": null,
   "id": "78e0e5a1",
   "metadata": {},
   "outputs": [],
   "source": [
    "data = pd.Series(['Laptop', 'Mouse','Keyboard'], index=[1,2,3])\n"
   ]
  },
  {
   "cell_type": "code",
   "execution_count": 7,
   "id": "706b9d73",
   "metadata": {},
   "outputs": [
    {
     "name": "stdout",
     "output_type": "stream",
     "text": [
      "1      Laptop\n",
      "2       Mouse\n",
      "3    Keyboard\n",
      "dtype: object\n"
     ]
    }
   ],
   "source": [
    "print(data)"
   ]
  },
  {
   "cell_type": "markdown",
   "id": "5eb5dc36",
   "metadata": {},
   "source": [
    "Now we move toward another data structure, i.e. DataFrame"
   ]
  },
  {
   "cell_type": "code",
   "execution_count": 4,
   "id": "d2428bed",
   "metadata": {},
   "outputs": [],
   "source": [
    "df = {\n",
    "    'Name':['Alice', 'Bob', 'Charlie'],\n",
    "    'Marks':[23,34,45]\n",
    "}\n"
   ]
  },
  {
   "cell_type": "code",
   "execution_count": 5,
   "id": "13435668",
   "metadata": {},
   "outputs": [],
   "source": [
    "df=pd.DataFrame(df)"
   ]
  },
  {
   "cell_type": "code",
   "execution_count": 6,
   "id": "b21435a8",
   "metadata": {},
   "outputs": [
    {
     "name": "stdout",
     "output_type": "stream",
     "text": [
      "      Name  Marks\n",
      "0    Alice     23\n",
      "1      Bob     34\n",
      "2  Charlie     45\n"
     ]
    }
   ],
   "source": [
    "print(df)\n"
   ]
  }
 ],
 "metadata": {
  "kernelspec": {
   "display_name": "Python 3",
   "language": "python",
   "name": "python3"
  },
  "language_info": {
   "codemirror_mode": {
    "name": "ipython",
    "version": 3
   },
   "file_extension": ".py",
   "mimetype": "text/x-python",
   "name": "python",
   "nbconvert_exporter": "python",
   "pygments_lexer": "ipython3",
   "version": "3.13.2"
  }
 },
 "nbformat": 4,
 "nbformat_minor": 5
}
